{
 "cells": [
  {
   "cell_type": "code",
   "execution_count": 1,
   "id": "8d4960a0",
   "metadata": {},
   "outputs": [],
   "source": [
    "%matplotlib inline\n",
    "import axs\n",
    "import os\n",
    "from glob import glob\n",
    "\n",
    "import pandas as pd\n",
    "import numpy as np\n",
    "import matplotlib\n",
    "import matplotlib.pyplot as plt\n",
    "from astropy.io import ascii\n",
    "\n",
    "import pandas as pd\n",
    "\n",
    "from multiprocessing import Pool\n",
    "\n",
    "import h5py\n",
    "import pyspark.sql.functions as sparkfunc"
   ]
  },
  {
   "cell_type": "code",
   "execution_count": 2,
   "id": "ba7f8313",
   "metadata": {
    "scrolled": true
   },
   "outputs": [
    {
     "data": {
      "text/html": [
       "\n",
       "            <div>\n",
       "                <p><b>SparkSession - hive</b></p>\n",
       "                \n",
       "        <div>\n",
       "            <p><b>SparkContext</b></p>\n",
       "\n",
       "            <p><a href=\"http://epyc.astro.washington.edu:4040\">Spark UI</a></p>\n",
       "\n",
       "            <dl>\n",
       "              <dt>Version</dt>\n",
       "                <dd><code>v3.0.0-preview</code></dd>\n",
       "              <dt>Master</dt>\n",
       "                <dd><code>local[10]</code></dd>\n",
       "              <dt>AppName</dt>\n",
       "                <dd><code>pyspark-shell</code></dd>\n",
       "            </dl>\n",
       "        </div>\n",
       "        \n",
       "            </div>\n",
       "        "
      ],
      "text/plain": [
       "<pyspark.sql.session.SparkSession at 0x7ff8a7aff490>"
      ]
     },
     "execution_count": 2,
     "metadata": {},
     "output_type": "execute_result"
    }
   ],
   "source": [
    "from pyspark.sql import SparkSession\n",
    "spark_session = (SparkSession.builder\n",
    "         .config('spark.master', \"local[10]\") # 20 when running the full crossmatch, 10 when doing validation.\n",
    "         .config('spark.driver.memory', '80G')\n",
    "         .config(\"spark.sql.execution.arrow.enabled\", \"true\")\n",
    "         .config(\"spark.ui.proxyBase\", \"https://epyc.astro.washington.edu/jupyter/user/ecbellm/proxy/4040\")\n",
    "         .config(\"spark.port.maxRetries\", \"128\")\n",
    "         .enableHiveSupport()\n",
    "         .getOrCreate())\n",
    "spark_session"
   ]
  },
  {
   "cell_type": "code",
   "execution_count": 3,
   "id": "b6d755d9",
   "metadata": {},
   "outputs": [],
   "source": [
    "catalog = axs.AxsCatalog(spark_session)"
   ]
  },
  {
   "cell_type": "code",
   "execution_count": 4,
   "id": "4c007c9d",
   "metadata": {},
   "outputs": [
    {
     "data": {
      "text/plain": [
       "dict_keys(['gaia_dr2_1am_dup', 'allwise_1am_dup', 'unwise_v1', 'cklein_flare', 'unwise_v2', 'catalina_variables_n', 'gaia', 'gaia_dr2_1am_dup_ssd', 'ps1', 'green19_stellar_params', 'rosat_2rxs', 'rosat_2rxs_z4am_b2am', 'ztf_dr3_2rxs_obj', 'wtf_ztf_dr3', 'ztf_wds_kjb_dr3', 'karenws_cut_wtf_fits_r_band', 'karenws_cut_wtf_fits', 'ztf_aug2020_2rxs_obj', 'skymapper_dr2', 'test_skymapper', 'skymapper_dr2_ver2', 'skymapper_dr2_ver3', 'ztf_rrlyr', 'gaia_source_edr3', 'gaia_edr3_distances', 'rrlyrae_sample_andy', 'stevengs_test_small_df', 'ztf5', 'feh_rrlyr_ab_020620', 'kepler_rrlyrae', 'ztf_kepler_rrlyrae', 'ps_uband', 'ps_uband_ver2', 'debug_match_a', 'debug_match_b', 'debug_match_c', 'ztf_rrlyr_grid_50', 'igaps_halpha_emitters', 'wtf_aug2020_asymmetric_2', 'wtf_aug2020_asymmetric_3', 'wtf_aug2020_dip_candidates', 'ztf_rr_lyrae_preprocessed_and_gridded_09_01_2021', 'ztf_rr_lyrae_phi_31_fits_09_01_2021', 'stevengs_test_sources', 'ddf_sources_bigger', 'ztf_dr7', 'jrad_zg98m', 'jrad_zgd98m', 'jrad_flaredcrv1', 'jrad_flaredcrv2', 'fratta21_halpha_emitters', 'high_cadence_plane_flares', 'ztf_dr10_detections', 'gaia_edr3_wds_j2019p5', 'ztf_wds_kjb', 'gaia_dr3_source'])"
      ]
     },
     "execution_count": 4,
     "metadata": {},
     "output_type": "execute_result"
    }
   ],
   "source": [
    "catalog.list_tables().keys()"
   ]
  },
  {
   "cell_type": "markdown",
   "id": "2fec6f9a",
   "metadata": {},
   "source": [
    "## VariSummary table"
   ]
  },
  {
   "cell_type": "code",
   "execution_count": 5,
   "id": "b77da9c2",
   "metadata": {},
   "outputs": [],
   "source": [
    "df_test = spark_session.read.csv('/epyc/data/gaia_dr3/csv/VariSummary/VariSummary_462888-462913.csv.gz',comment='#',header=True,inferSchema=True)"
   ]
  },
  {
   "cell_type": "code",
   "execution_count": 6,
   "id": "80a4b193",
   "metadata": {},
   "outputs": [
    {
     "data": {
      "text/plain": [
       "StructType(List(StructField(solution_id,LongType,true),StructField(source_id,LongType,true),StructField(num_selected_g_fov,IntegerType,true),StructField(mean_obs_time_g_fov,DoubleType,true),StructField(time_duration_g_fov,DoubleType,true),StructField(min_mag_g_fov,DoubleType,true),StructField(max_mag_g_fov,DoubleType,true),StructField(mean_mag_g_fov,DoubleType,true),StructField(median_mag_g_fov,DoubleType,true),StructField(range_mag_g_fov,DoubleType,true),StructField(trimmed_range_mag_g_fov,DoubleType,true),StructField(std_dev_mag_g_fov,DoubleType,true),StructField(skewness_mag_g_fov,DoubleType,true),StructField(kurtosis_mag_g_fov,DoubleType,true),StructField(mad_mag_g_fov,DoubleType,true),StructField(abbe_mag_g_fov,DoubleType,true),StructField(iqr_mag_g_fov,DoubleType,true),StructField(stetson_mag_g_fov,DoubleType,true),StructField(std_dev_over_rms_err_mag_g_fov,DoubleType,true),StructField(outlier_median_g_fov,DoubleType,true),StructField(num_selected_bp,IntegerType,true),StructField(mean_obs_time_bp,DoubleType,true),StructField(time_duration_bp,DoubleType,true),StructField(min_mag_bp,DoubleType,true),StructField(max_mag_bp,DoubleType,true),StructField(mean_mag_bp,DoubleType,true),StructField(median_mag_bp,DoubleType,true),StructField(range_mag_bp,DoubleType,true),StructField(trimmed_range_mag_bp,DoubleType,true),StructField(std_dev_mag_bp,DoubleType,true),StructField(skewness_mag_bp,DoubleType,true),StructField(kurtosis_mag_bp,DoubleType,true),StructField(mad_mag_bp,DoubleType,true),StructField(abbe_mag_bp,DoubleType,true),StructField(iqr_mag_bp,DoubleType,true),StructField(stetson_mag_bp,DoubleType,true),StructField(std_dev_over_rms_err_mag_bp,DoubleType,true),StructField(outlier_median_bp,DoubleType,true),StructField(num_selected_rp,IntegerType,true),StructField(mean_obs_time_rp,DoubleType,true),StructField(time_duration_rp,DoubleType,true),StructField(min_mag_rp,DoubleType,true),StructField(max_mag_rp,DoubleType,true),StructField(mean_mag_rp,DoubleType,true),StructField(median_mag_rp,DoubleType,true),StructField(range_mag_rp,DoubleType,true),StructField(trimmed_range_mag_rp,DoubleType,true),StructField(std_dev_mag_rp,DoubleType,true),StructField(skewness_mag_rp,DoubleType,true),StructField(kurtosis_mag_rp,DoubleType,true),StructField(mad_mag_rp,DoubleType,true),StructField(abbe_mag_rp,DoubleType,true),StructField(iqr_mag_rp,DoubleType,true),StructField(stetson_mag_rp,DoubleType,true),StructField(std_dev_over_rms_err_mag_rp,DoubleType,true),StructField(outlier_median_rp,DoubleType,true),StructField(in_vari_classification_result,BooleanType,true),StructField(in_vari_rrlyrae,BooleanType,true),StructField(in_vari_cepheid,BooleanType,true),StructField(in_vari_planetary_transit,BooleanType,true),StructField(in_vari_short_timescale,BooleanType,true),StructField(in_vari_long_period_variable,BooleanType,true),StructField(in_vari_eclipsing_binary,BooleanType,true),StructField(in_vari_rotation_modulation,BooleanType,true),StructField(in_vari_ms_oscillator,BooleanType,true),StructField(in_vari_agn,BooleanType,true),StructField(in_vari_microlensing,BooleanType,true),StructField(in_vari_compact_companion,BooleanType,true)))"
      ]
     },
     "execution_count": 6,
     "metadata": {},
     "output_type": "execute_result"
    }
   ],
   "source": [
    "df_test.schema"
   ]
  },
  {
   "cell_type": "code",
   "execution_count": 8,
   "id": "d9751d7f",
   "metadata": {},
   "outputs": [
    {
     "data": {
      "text/plain": [
       "1065"
      ]
     },
     "execution_count": 8,
     "metadata": {},
     "output_type": "execute_result"
    }
   ],
   "source": [
    "df_test.count()"
   ]
  },
  {
   "cell_type": "code",
   "execution_count": 9,
   "id": "d5220608",
   "metadata": {},
   "outputs": [
    {
     "data": {
      "text/plain": [
       "Row(solution_id=375316653866487564, source_id=4071605906863950848, num_selected_g_fov=24, mean_obs_time_g_fov=2233.0470813836528, time_duration_g_fov=935.6858, min_mag_g_fov=16.434698, max_mag_g_fov=17.187775, mean_mag_g_fov=16.742523, median_mag_g_fov=16.706411, range_mag_g_fov=0.7530761, trimmed_range_mag_g_fov=0.680446, std_dev_mag_g_fov=0.21599738, skewness_mag_g_fov=0.41057605, kurtosis_mag_g_fov=-0.68246186, mad_mag_g_fov=0.2320748, abbe_mag_g_fov=1.0968395, iqr_mag_g_fov=0.32099915, stetson_mag_g_fov=24.84971, std_dev_over_rms_err_mag_g_fov=45.734005, outlier_median_g_fov=135.3269, num_selected_bp=27, mean_obs_time_bp=2225.785199391947, time_duration_bp=969.8911, min_mag_bp=16.53926, max_mag_bp=17.648405, mean_mag_bp=17.252209, median_mag_bp=17.26781, range_mag_bp=1.1091436, trimmed_range_mag_bp=0.71454364, std_dev_mag_bp=0.25204545, skewness_mag_bp=-0.6977858, kurtosis_mag_bp=0.95739657, mad_mag_bp=0.23522338, abbe_mag_bp=0.8895337, iqr_mag_bp=0.3551742, stetson_mag_bp=5.56147, std_dev_over_rms_err_mag_bp=14.303759, outlier_median_bp=61.625397, num_selected_rp=27, mean_obs_time_rp=2225.7852870345387, time_duration_rp=969.8911, min_mag_rp=15.621766, max_mag_rp=16.312086, mean_mag_rp=15.934521, median_mag_rp=15.957363, range_mag_rp=0.69031966, trimmed_range_mag_rp=0.6093796, std_dev_mag_rp=0.20251234, skewness_mag_rp=0.11647148, kurtosis_mag_rp=-1.0960579, mad_mag_rp=0.27015045, abbe_mag_rp=1.1379064, iqr_mag_rp=0.30981183, stetson_mag_rp=6.4596877, std_dev_over_rms_err_mag_rp=18.32702, outlier_median_rp=37.182922, in_vari_classification_result=True, in_vari_rrlyrae=False, in_vari_cepheid=False, in_vari_planetary_transit=False, in_vari_short_timescale=True, in_vari_long_period_variable=False, in_vari_eclipsing_binary=True, in_vari_rotation_modulation=False, in_vari_ms_oscillator=False, in_vari_agn=False, in_vari_microlensing=False, in_vari_compact_companion=False)"
      ]
     },
     "execution_count": 9,
     "metadata": {},
     "output_type": "execute_result"
    }
   ],
   "source": [
    "df_test.head()"
   ]
  },
  {
   "cell_type": "code",
   "execution_count": 10,
   "id": "6a869778",
   "metadata": {},
   "outputs": [],
   "source": [
    "df = spark_session.read.csv('/epyc/data/gaia_dr3/csv/VariSummary',comment='#',header=True,schema=df_test.schema)"
   ]
  },
  {
   "cell_type": "code",
   "execution_count": null,
   "id": "94375f6b",
   "metadata": {},
   "outputs": [],
   "source": [
    "# to load into AXS we need ra and dec, so join to our export from GaiaSource"
   ]
  },
  {
   "cell_type": "code",
   "execution_count": 11,
   "id": "788621b4",
   "metadata": {},
   "outputs": [],
   "source": [
    "df_radec = spark_session.read.parquet('/epyc/data/gaia_dr3/source_id_ra_dec.parquet')"
   ]
  },
  {
   "cell_type": "code",
   "execution_count": 12,
   "id": "0936990a",
   "metadata": {},
   "outputs": [
    {
     "data": {
      "text/plain": [
       "Row(source_id=4116923378115693568, ra=265.4280847078738, dec=-22.989304805079296)"
      ]
     },
     "execution_count": 12,
     "metadata": {},
     "output_type": "execute_result"
    }
   ],
   "source": [
    "df_radec.head()"
   ]
  },
  {
   "cell_type": "markdown",
   "id": "185a0dc8",
   "metadata": {},
   "source": [
    "https://stackoverflow.com/questions/33778664/spark-dataframe-distinguish-columns-with-duplicated-name"
   ]
  },
  {
   "cell_type": "code",
   "execution_count": 22,
   "id": "c0bd8014",
   "metadata": {},
   "outputs": [],
   "source": [
    "df_radec_alias = df_radec.select(sparkfunc.col('source_id').alias('source_id_radec'),'ra','dec')\n"
   ]
  },
  {
   "cell_type": "code",
   "execution_count": 23,
   "id": "c7463de3",
   "metadata": {},
   "outputs": [
    {
     "data": {
      "text/plain": [
       "Row(source_id_radec=4116923378115693568, ra=265.4280847078738, dec=-22.989304805079296)"
      ]
     },
     "execution_count": 23,
     "metadata": {},
     "output_type": "execute_result"
    }
   ],
   "source": [
    "df_radec_alias.head()"
   ]
  },
  {
   "cell_type": "code",
   "execution_count": 25,
   "id": "268f5071",
   "metadata": {
    "scrolled": false
   },
   "outputs": [
    {
     "data": {
      "text/plain": [
       "Row(ra=280.20148696019265, dec=-28.96359515484567, solution_id=375316653866487564, source_id=4071605906863950848, num_selected_g_fov=24, mean_obs_time_g_fov=2233.0470813836528, time_duration_g_fov=935.6858, min_mag_g_fov=16.434698, max_mag_g_fov=17.187775, mean_mag_g_fov=16.742523, median_mag_g_fov=16.706411, range_mag_g_fov=0.7530761, trimmed_range_mag_g_fov=0.680446, std_dev_mag_g_fov=0.21599738, skewness_mag_g_fov=0.41057605, kurtosis_mag_g_fov=-0.68246186, mad_mag_g_fov=0.2320748, abbe_mag_g_fov=1.0968395, iqr_mag_g_fov=0.32099915, stetson_mag_g_fov=24.84971, std_dev_over_rms_err_mag_g_fov=45.734005, outlier_median_g_fov=135.3269, num_selected_bp=27, mean_obs_time_bp=2225.785199391947, time_duration_bp=969.8911, min_mag_bp=16.53926, max_mag_bp=17.648405, mean_mag_bp=17.252209, median_mag_bp=17.26781, range_mag_bp=1.1091436, trimmed_range_mag_bp=0.71454364, std_dev_mag_bp=0.25204545, skewness_mag_bp=-0.6977858, kurtosis_mag_bp=0.95739657, mad_mag_bp=0.23522338, abbe_mag_bp=0.8895337, iqr_mag_bp=0.3551742, stetson_mag_bp=5.56147, std_dev_over_rms_err_mag_bp=14.303759, outlier_median_bp=61.625397, num_selected_rp=27, mean_obs_time_rp=2225.7852870345387, time_duration_rp=969.8911, min_mag_rp=15.621766, max_mag_rp=16.312086, mean_mag_rp=15.934521, median_mag_rp=15.957363, range_mag_rp=0.69031966, trimmed_range_mag_rp=0.6093796, std_dev_mag_rp=0.20251234, skewness_mag_rp=0.11647148, kurtosis_mag_rp=-1.0960579, mad_mag_rp=0.27015045, abbe_mag_rp=1.1379064, iqr_mag_rp=0.30981183, stetson_mag_rp=6.4596877, std_dev_over_rms_err_mag_rp=18.32702, outlier_median_rp=37.182922, in_vari_classification_result=True, in_vari_rrlyrae=False, in_vari_cepheid=False, in_vari_planetary_transit=False, in_vari_short_timescale=True, in_vari_long_period_variable=False, in_vari_eclipsing_binary=True, in_vari_rotation_modulation=False, in_vari_ms_oscillator=False, in_vari_agn=False, in_vari_microlensing=False, in_vari_compact_companion=False)"
      ]
     },
     "execution_count": 25,
     "metadata": {},
     "output_type": "execute_result"
    }
   ],
   "source": [
    "# need the select to avoid duplicating the source_id column\n",
    "(df_radec_alias.join(df_test,df_test.source_id == df_radec_alias.source_id_radec, 'inner')\\\n",
    "    .select('ra','dec',*(sparkfunc.col(x) for x in df_test.columns)).head())"
   ]
  },
  {
   "cell_type": "code",
   "execution_count": 26,
   "id": "9f848660",
   "metadata": {},
   "outputs": [
    {
     "name": "stdout",
     "output_type": "stream",
     "text": [
      "CPU times: user 202 ms, sys: 78.8 ms, total: 280 ms\n",
      "Wall time: 9min 8s\n"
     ]
    }
   ],
   "source": [
    "%%time\n",
    "\n",
    "df_joined = (df_radec_alias.join(df,df.source_id == df_radec_alias.source_id_radec, 'inner')\\\n",
    "    .select('ra','dec',*(sparkfunc.col(x) for x in df.columns)))\n",
    "\n",
    "catalog.save_axs_table(df_joined, \"gaia_dr3_vari_summary\", calculate_zone=True)"
   ]
  },
  {
   "cell_type": "markdown",
   "id": "b16f172c",
   "metadata": {},
   "source": [
    "## test Gaia Source"
   ]
  },
  {
   "cell_type": "code",
   "execution_count": 5,
   "id": "099f986a",
   "metadata": {},
   "outputs": [],
   "source": [
    "gaia = catalog.load(\"gaia_dr3_source\")"
   ]
  },
  {
   "cell_type": "code",
   "execution_count": 27,
   "id": "4a732af4",
   "metadata": {},
   "outputs": [],
   "source": [
    "vari = catalog.load(\"gaia_dr3_vari_summary\")"
   ]
  },
  {
   "cell_type": "code",
   "execution_count": 29,
   "id": "3c5dbbd4",
   "metadata": {},
   "outputs": [
    {
     "data": {
      "text/plain": [
       "13715388"
      ]
     },
     "execution_count": 29,
     "metadata": {},
     "output_type": "execute_result"
    }
   ],
   "source": [
    "vari.count()"
   ]
  },
  {
   "cell_type": "code",
   "execution_count": 30,
   "id": "f49100a0",
   "metadata": {},
   "outputs": [
    {
     "data": {
      "text/plain": [
       "Row(ra=2.0565882573506062, dec=-84.93676073039339, solution_id=375316653866487564, source_id=4617405884073871232, num_selected_g_fov=35, mean_obs_time_g_fov=2214.983747224728, time_duration_g_fov=935.00977, min_mag_g_fov=17.931557, max_mag_g_fov=18.669409, mean_mag_g_fov=18.303576, median_mag_g_fov=18.299463, range_mag_g_fov=0.73785233, trimmed_range_mag_g_fov=0.64042765, std_dev_mag_g_fov=0.25325578, skewness_mag_g_fov=0.017588899, kurtosis_mag_g_fov=-1.797536, mad_mag_g_fov=0.38241675, abbe_mag_g_fov=0.7652942, iqr_mag_g_fov=0.51978576, stetson_mag_g_fov=14.917244, std_dev_over_rms_err_mag_g_fov=4.1048636, outlier_median_g_fov=49.2365, num_selected_bp=32, mean_obs_time_bp=2214.8368581737377, time_duration_bp=935.00977, min_mag_bp=18.356804, max_mag_bp=19.26798, mean_mag_bp=18.627182, median_mag_bp=18.600204, range_mag_bp=0.911176, trimmed_range_mag_bp=0.4638848, std_dev_mag_bp=0.1833683, skewness_mag_bp=1.45152, kurtosis_mag_bp=3.3996491, mad_mag_bp=0.16367736, abbe_mag_bp=1.0174474, iqr_mag_bp=0.2207974, stetson_mag_bp=1.6129818, std_dev_over_rms_err_mag_bp=3.1909535, outlier_median_bp=9.4311695, num_selected_rp=31, mean_obs_time_rp=2217.3421195060364, time_duration_rp=935.00977, min_mag_rp=17.116528, max_mag_rp=17.607378, mean_mag_rp=17.35026, median_mag_rp=17.341372, range_mag_rp=0.49085003, trimmed_range_mag_rp=0.43645117, std_dev_mag_rp=0.10313906, skewness_mag_rp=0.30702892, kurtosis_mag_rp=1.3655008, mad_mag_rp=0.07167801, abbe_mag_rp=1.0416392, iqr_mag_rp=0.0985055, stetson_mag_rp=1.7526118, std_dev_over_rms_err_mag_rp=3.4611025, outlier_median_rp=10.323474, in_vari_classification_result=True, in_vari_rrlyrae=False, in_vari_cepheid=False, in_vari_planetary_transit=False, in_vari_short_timescale=False, in_vari_long_period_variable=False, in_vari_eclipsing_binary=False, in_vari_rotation_modulation=False, in_vari_ms_oscillator=False, in_vari_agn=False, in_vari_microlensing=False, in_vari_compact_companion=False, zone=303, dup=0)"
      ]
     },
     "execution_count": 30,
     "metadata": {},
     "output_type": "execute_result"
    }
   ],
   "source": [
    "vari.head()"
   ]
  },
  {
   "cell_type": "code",
   "execution_count": 28,
   "id": "abb79aca",
   "metadata": {},
   "outputs": [
    {
     "data": {
      "text/plain": [
       "['ra',\n",
       " 'dec',\n",
       " 'solution_id',\n",
       " 'source_id',\n",
       " 'num_selected_g_fov',\n",
       " 'mean_obs_time_g_fov',\n",
       " 'time_duration_g_fov',\n",
       " 'min_mag_g_fov',\n",
       " 'max_mag_g_fov',\n",
       " 'mean_mag_g_fov',\n",
       " 'median_mag_g_fov',\n",
       " 'range_mag_g_fov',\n",
       " 'trimmed_range_mag_g_fov',\n",
       " 'std_dev_mag_g_fov',\n",
       " 'skewness_mag_g_fov',\n",
       " 'kurtosis_mag_g_fov',\n",
       " 'mad_mag_g_fov',\n",
       " 'abbe_mag_g_fov',\n",
       " 'iqr_mag_g_fov',\n",
       " 'stetson_mag_g_fov',\n",
       " 'std_dev_over_rms_err_mag_g_fov',\n",
       " 'outlier_median_g_fov',\n",
       " 'num_selected_bp',\n",
       " 'mean_obs_time_bp',\n",
       " 'time_duration_bp',\n",
       " 'min_mag_bp',\n",
       " 'max_mag_bp',\n",
       " 'mean_mag_bp',\n",
       " 'median_mag_bp',\n",
       " 'range_mag_bp',\n",
       " 'trimmed_range_mag_bp',\n",
       " 'std_dev_mag_bp',\n",
       " 'skewness_mag_bp',\n",
       " 'kurtosis_mag_bp',\n",
       " 'mad_mag_bp',\n",
       " 'abbe_mag_bp',\n",
       " 'iqr_mag_bp',\n",
       " 'stetson_mag_bp',\n",
       " 'std_dev_over_rms_err_mag_bp',\n",
       " 'outlier_median_bp',\n",
       " 'num_selected_rp',\n",
       " 'mean_obs_time_rp',\n",
       " 'time_duration_rp',\n",
       " 'min_mag_rp',\n",
       " 'max_mag_rp',\n",
       " 'mean_mag_rp',\n",
       " 'median_mag_rp',\n",
       " 'range_mag_rp',\n",
       " 'trimmed_range_mag_rp',\n",
       " 'std_dev_mag_rp',\n",
       " 'skewness_mag_rp',\n",
       " 'kurtosis_mag_rp',\n",
       " 'mad_mag_rp',\n",
       " 'abbe_mag_rp',\n",
       " 'iqr_mag_rp',\n",
       " 'stetson_mag_rp',\n",
       " 'std_dev_over_rms_err_mag_rp',\n",
       " 'outlier_median_rp',\n",
       " 'in_vari_classification_result',\n",
       " 'in_vari_rrlyrae',\n",
       " 'in_vari_cepheid',\n",
       " 'in_vari_planetary_transit',\n",
       " 'in_vari_short_timescale',\n",
       " 'in_vari_long_period_variable',\n",
       " 'in_vari_eclipsing_binary',\n",
       " 'in_vari_rotation_modulation',\n",
       " 'in_vari_ms_oscillator',\n",
       " 'in_vari_agn',\n",
       " 'in_vari_microlensing',\n",
       " 'in_vari_compact_companion',\n",
       " 'zone',\n",
       " 'dup']"
      ]
     },
     "execution_count": 28,
     "metadata": {},
     "output_type": "execute_result"
    }
   ],
   "source": [
    "vari.columns"
   ]
  },
  {
   "cell_type": "code",
   "execution_count": null,
   "id": "bc17ebfd",
   "metadata": {},
   "outputs": [],
   "source": []
  },
  {
   "cell_type": "code",
   "execution_count": null,
   "id": "b0b2d6a8",
   "metadata": {},
   "outputs": [],
   "source": []
  },
  {
   "cell_type": "code",
   "execution_count": null,
   "id": "1357f884",
   "metadata": {},
   "outputs": [],
   "source": []
  }
 ],
 "metadata": {
  "kernelspec": {
   "display_name": "Python 3-AXS Beta",
   "language": "python",
   "name": "spark-axs-beta"
  },
  "language_info": {
   "codemirror_mode": {
    "name": "ipython",
    "version": 3
   },
   "file_extension": ".py",
   "mimetype": "text/x-python",
   "name": "python",
   "nbconvert_exporter": "python",
   "pygments_lexer": "ipython3",
   "version": "3.7.6"
  }
 },
 "nbformat": 4,
 "nbformat_minor": 5
}
