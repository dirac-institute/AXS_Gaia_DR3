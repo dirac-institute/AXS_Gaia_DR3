{
 "cells": [
  {
   "cell_type": "markdown",
   "id": "949a7bd3",
   "metadata": {},
   "source": [
    "just making some plots for the 2022-06-16 Time Domain meeting"
   ]
  },
  {
   "cell_type": "code",
   "execution_count": 1,
   "id": "8d4960a0",
   "metadata": {},
   "outputs": [],
   "source": [
    "%matplotlib inline\n",
    "import axs\n",
    "import os\n",
    "from glob import glob\n",
    "\n",
    "import pandas as pd\n",
    "import numpy as np\n",
    "import matplotlib\n",
    "import matplotlib.pyplot as plt\n",
    "from astropy.io import ascii\n",
    "\n",
    "import pandas as pd\n",
    "\n",
    "from multiprocessing import Pool\n",
    "\n",
    "import h5py\n",
    "import pyspark.sql.functions as sparkfunc"
   ]
  },
  {
   "cell_type": "code",
   "execution_count": 2,
   "id": "ba7f8313",
   "metadata": {
    "scrolled": true
   },
   "outputs": [
    {
     "data": {
      "text/html": [
       "\n",
       "            <div>\n",
       "                <p><b>SparkSession - hive</b></p>\n",
       "                \n",
       "        <div>\n",
       "            <p><b>SparkContext</b></p>\n",
       "\n",
       "            <p><a href=\"http://epyc.astro.washington.edu:4040\">Spark UI</a></p>\n",
       "\n",
       "            <dl>\n",
       "              <dt>Version</dt>\n",
       "                <dd><code>v3.0.0-preview</code></dd>\n",
       "              <dt>Master</dt>\n",
       "                <dd><code>local[10]</code></dd>\n",
       "              <dt>AppName</dt>\n",
       "                <dd><code>pyspark-shell</code></dd>\n",
       "            </dl>\n",
       "        </div>\n",
       "        \n",
       "            </div>\n",
       "        "
      ],
      "text/plain": [
       "<pyspark.sql.session.SparkSession at 0x7f4e5c49c550>"
      ]
     },
     "execution_count": 2,
     "metadata": {},
     "output_type": "execute_result"
    }
   ],
   "source": [
    "from pyspark.sql import SparkSession\n",
    "spark_session = (SparkSession.builder\n",
    "         .config('spark.master', \"local[10]\") # 20 when running the full crossmatch, 10 when doing validation.\n",
    "         .config('spark.driver.memory', '80G')\n",
    "         .config(\"spark.sql.execution.arrow.enabled\", \"true\")\n",
    "         .config(\"spark.ui.proxyBase\", \"https://epyc.astro.washington.edu/jupyter/user/ecbellm/proxy/4040\")\n",
    "         .config(\"spark.port.maxRetries\", \"128\")\n",
    "         .enableHiveSupport()\n",
    "         .getOrCreate())\n",
    "spark_session"
   ]
  },
  {
   "cell_type": "code",
   "execution_count": 3,
   "id": "b6d755d9",
   "metadata": {},
   "outputs": [],
   "source": [
    "catalog = axs.AxsCatalog(spark_session)"
   ]
  },
  {
   "cell_type": "code",
   "execution_count": 4,
   "id": "4c007c9d",
   "metadata": {},
   "outputs": [
    {
     "data": {
      "text/plain": [
       "dict_keys(['gaia_dr2_1am_dup', 'allwise_1am_dup', 'unwise_v1', 'cklein_flare', 'unwise_v2', 'catalina_variables_n', 'gaia', 'gaia_dr2_1am_dup_ssd', 'ps1', 'green19_stellar_params', 'rosat_2rxs', 'rosat_2rxs_z4am_b2am', 'ztf_dr3_2rxs_obj', 'wtf_ztf_dr3', 'ztf_wds_kjb_dr3', 'karenws_cut_wtf_fits_r_band', 'karenws_cut_wtf_fits', 'ztf_aug2020_2rxs_obj', 'skymapper_dr2', 'test_skymapper', 'skymapper_dr2_ver2', 'skymapper_dr2_ver3', 'ztf_rrlyr', 'gaia_source_edr3', 'gaia_edr3_distances', 'rrlyrae_sample_andy', 'stevengs_test_small_df', 'ztf5', 'feh_rrlyr_ab_020620', 'kepler_rrlyrae', 'ztf_kepler_rrlyrae', 'ps_uband', 'ps_uband_ver2', 'debug_match_a', 'debug_match_b', 'debug_match_c', 'ztf_rrlyr_grid_50', 'igaps_halpha_emitters', 'wtf_aug2020_asymmetric_2', 'wtf_aug2020_asymmetric_3', 'wtf_aug2020_dip_candidates', 'ztf_rr_lyrae_preprocessed_and_gridded_09_01_2021', 'ztf_rr_lyrae_phi_31_fits_09_01_2021', 'stevengs_test_sources', 'ddf_sources_bigger', 'ztf_dr7', 'jrad_zg98m', 'jrad_zgd98m', 'jrad_flaredcrv1', 'jrad_flaredcrv2', 'fratta21_halpha_emitters', 'high_cadence_plane_flares', 'ztf_dr10_detections', 'gaia_edr3_wds_j2019p5', 'ztf_wds_kjb', 'gaia_dr3_source', 'gaia_dr3_vari_summary', 'gaia_dr3_epoch_photometry'])"
      ]
     },
     "execution_count": 4,
     "metadata": {},
     "output_type": "execute_result"
    }
   ],
   "source": [
    "catalog.list_tables().keys()"
   ]
  },
  {
   "cell_type": "markdown",
   "id": "b16f172c",
   "metadata": {},
   "source": [
    "## let's see if we can make some plots"
   ]
  },
  {
   "cell_type": "code",
   "execution_count": 5,
   "id": "099f986a",
   "metadata": {},
   "outputs": [],
   "source": [
    "gaia = catalog.load(\"gaia_dr3_source\")\n",
    "vari = catalog.load(\"gaia_dr3_vari_summary\")\n",
    "lc = catalog.load(\"gaia_dr3_epoch_photometry\")"
   ]
  },
  {
   "cell_type": "code",
   "execution_count": 6,
   "id": "abb79aca",
   "metadata": {
    "scrolled": false
   },
   "outputs": [
    {
     "data": {
      "text/plain": [
       "['solution_id',\n",
       " 'designation',\n",
       " 'source_id',\n",
       " 'random_index',\n",
       " 'ref_epoch',\n",
       " 'ra',\n",
       " 'ra_error',\n",
       " 'dec',\n",
       " 'dec_error',\n",
       " 'parallax',\n",
       " 'parallax_error',\n",
       " 'parallax_over_error',\n",
       " 'pm',\n",
       " 'pmra',\n",
       " 'pmra_error',\n",
       " 'pmdec',\n",
       " 'pmdec_error',\n",
       " 'ra_dec_corr',\n",
       " 'ra_parallax_corr',\n",
       " 'ra_pmra_corr',\n",
       " 'ra_pmdec_corr',\n",
       " 'dec_parallax_corr',\n",
       " 'dec_pmra_corr',\n",
       " 'dec_pmdec_corr',\n",
       " 'parallax_pmra_corr',\n",
       " 'parallax_pmdec_corr',\n",
       " 'pmra_pmdec_corr',\n",
       " 'astrometric_n_obs_al',\n",
       " 'astrometric_n_obs_ac',\n",
       " 'astrometric_n_good_obs_al',\n",
       " 'astrometric_n_bad_obs_al',\n",
       " 'astrometric_gof_al',\n",
       " 'astrometric_chi2_al',\n",
       " 'astrometric_excess_noise',\n",
       " 'astrometric_excess_noise_sig',\n",
       " 'astrometric_params_solved',\n",
       " 'astrometric_primary_flag',\n",
       " 'nu_eff_used_in_astrometry',\n",
       " 'pseudocolour',\n",
       " 'pseudocolour_error',\n",
       " 'ra_pseudocolour_corr',\n",
       " 'dec_pseudocolour_corr',\n",
       " 'parallax_pseudocolour_corr',\n",
       " 'pmra_pseudocolour_corr',\n",
       " 'pmdec_pseudocolour_corr',\n",
       " 'astrometric_matched_transits',\n",
       " 'visibility_periods_used',\n",
       " 'astrometric_sigma5d_max',\n",
       " 'matched_transits',\n",
       " 'new_matched_transits',\n",
       " 'matched_transits_removed',\n",
       " 'ipd_gof_harmonic_amplitude',\n",
       " 'ipd_gof_harmonic_phase',\n",
       " 'ipd_frac_multi_peak',\n",
       " 'ipd_frac_odd_win',\n",
       " 'ruwe',\n",
       " 'scan_direction_strength_k1',\n",
       " 'scan_direction_strength_k2',\n",
       " 'scan_direction_strength_k3',\n",
       " 'scan_direction_strength_k4',\n",
       " 'scan_direction_mean_k1',\n",
       " 'scan_direction_mean_k2',\n",
       " 'scan_direction_mean_k3',\n",
       " 'scan_direction_mean_k4',\n",
       " 'duplicated_source',\n",
       " 'phot_g_n_obs',\n",
       " 'phot_g_mean_flux',\n",
       " 'phot_g_mean_flux_error',\n",
       " 'phot_g_mean_flux_over_error',\n",
       " 'phot_g_mean_mag',\n",
       " 'phot_bp_n_obs',\n",
       " 'phot_bp_mean_flux',\n",
       " 'phot_bp_mean_flux_error',\n",
       " 'phot_bp_mean_flux_over_error',\n",
       " 'phot_bp_mean_mag',\n",
       " 'phot_rp_n_obs',\n",
       " 'phot_rp_mean_flux',\n",
       " 'phot_rp_mean_flux_error',\n",
       " 'phot_rp_mean_flux_over_error',\n",
       " 'phot_rp_mean_mag',\n",
       " 'phot_bp_rp_excess_factor',\n",
       " 'phot_bp_n_contaminated_transits',\n",
       " 'phot_bp_n_blended_transits',\n",
       " 'phot_rp_n_contaminated_transits',\n",
       " 'phot_rp_n_blended_transits',\n",
       " 'phot_proc_mode',\n",
       " 'bp_rp',\n",
       " 'bp_g',\n",
       " 'g_rp',\n",
       " 'radial_velocity',\n",
       " 'radial_velocity_error',\n",
       " 'rv_method_used',\n",
       " 'rv_nb_transits',\n",
       " 'rv_nb_deblended_transits',\n",
       " 'rv_visibility_periods_used',\n",
       " 'rv_expected_sig_to_noise',\n",
       " 'rv_renormalised_gof',\n",
       " 'rv_chisq_pvalue',\n",
       " 'rv_time_duration',\n",
       " 'rv_amplitude_robust',\n",
       " 'rv_template_teff',\n",
       " 'rv_template_logg',\n",
       " 'rv_template_fe_h',\n",
       " 'rv_atm_param_origin',\n",
       " 'vbroad',\n",
       " 'vbroad_error',\n",
       " 'vbroad_nb_transits',\n",
       " 'grvs_mag',\n",
       " 'grvs_mag_error',\n",
       " 'grvs_mag_nb_transits',\n",
       " 'rvs_spec_sig_to_noise',\n",
       " 'phot_variable_flag',\n",
       " 'l',\n",
       " 'b',\n",
       " 'ecl_lon',\n",
       " 'ecl_lat',\n",
       " 'in_qso_candidates',\n",
       " 'in_galaxy_candidates',\n",
       " 'non_single_star',\n",
       " 'has_xp_continuous',\n",
       " 'has_xp_sampled',\n",
       " 'has_rvs',\n",
       " 'has_epoch_photometry',\n",
       " 'has_epoch_rv',\n",
       " 'has_mcmc_gspphot',\n",
       " 'has_mcmc_msc',\n",
       " 'in_andromeda_survey',\n",
       " 'classprob_dsc_combmod_quasar',\n",
       " 'classprob_dsc_combmod_galaxy',\n",
       " 'classprob_dsc_combmod_star',\n",
       " 'teff_gspphot',\n",
       " 'teff_gspphot_lower',\n",
       " 'teff_gspphot_upper',\n",
       " 'logg_gspphot',\n",
       " 'logg_gspphot_lower',\n",
       " 'logg_gspphot_upper',\n",
       " 'mh_gspphot',\n",
       " 'mh_gspphot_lower',\n",
       " 'mh_gspphot_upper',\n",
       " 'distance_gspphot',\n",
       " 'distance_gspphot_lower',\n",
       " 'distance_gspphot_upper',\n",
       " 'azero_gspphot',\n",
       " 'azero_gspphot_lower',\n",
       " 'azero_gspphot_upper',\n",
       " 'ag_gspphot',\n",
       " 'ag_gspphot_lower',\n",
       " 'ag_gspphot_upper',\n",
       " 'ebpminrp_gspphot',\n",
       " 'ebpminrp_gspphot_lower',\n",
       " 'ebpminrp_gspphot_upper',\n",
       " 'libname_gspphot',\n",
       " 'zone',\n",
       " 'dup']"
      ]
     },
     "execution_count": 6,
     "metadata": {},
     "output_type": "execute_result"
    }
   ],
   "source": [
    "gaia.columns"
   ]
  },
  {
   "cell_type": "code",
   "execution_count": 6,
   "id": "4dd432aa",
   "metadata": {},
   "outputs": [
    {
     "data": {
      "text/plain": [
       "['ra',\n",
       " 'dec',\n",
       " 'solution_id',\n",
       " 'source_id',\n",
       " 'num_selected_g_fov',\n",
       " 'mean_obs_time_g_fov',\n",
       " 'time_duration_g_fov',\n",
       " 'min_mag_g_fov',\n",
       " 'max_mag_g_fov',\n",
       " 'mean_mag_g_fov',\n",
       " 'median_mag_g_fov',\n",
       " 'range_mag_g_fov',\n",
       " 'trimmed_range_mag_g_fov',\n",
       " 'std_dev_mag_g_fov',\n",
       " 'skewness_mag_g_fov',\n",
       " 'kurtosis_mag_g_fov',\n",
       " 'mad_mag_g_fov',\n",
       " 'abbe_mag_g_fov',\n",
       " 'iqr_mag_g_fov',\n",
       " 'stetson_mag_g_fov',\n",
       " 'std_dev_over_rms_err_mag_g_fov',\n",
       " 'outlier_median_g_fov',\n",
       " 'num_selected_bp',\n",
       " 'mean_obs_time_bp',\n",
       " 'time_duration_bp',\n",
       " 'min_mag_bp',\n",
       " 'max_mag_bp',\n",
       " 'mean_mag_bp',\n",
       " 'median_mag_bp',\n",
       " 'range_mag_bp',\n",
       " 'trimmed_range_mag_bp',\n",
       " 'std_dev_mag_bp',\n",
       " 'skewness_mag_bp',\n",
       " 'kurtosis_mag_bp',\n",
       " 'mad_mag_bp',\n",
       " 'abbe_mag_bp',\n",
       " 'iqr_mag_bp',\n",
       " 'stetson_mag_bp',\n",
       " 'std_dev_over_rms_err_mag_bp',\n",
       " 'outlier_median_bp',\n",
       " 'num_selected_rp',\n",
       " 'mean_obs_time_rp',\n",
       " 'time_duration_rp',\n",
       " 'min_mag_rp',\n",
       " 'max_mag_rp',\n",
       " 'mean_mag_rp',\n",
       " 'median_mag_rp',\n",
       " 'range_mag_rp',\n",
       " 'trimmed_range_mag_rp',\n",
       " 'std_dev_mag_rp',\n",
       " 'skewness_mag_rp',\n",
       " 'kurtosis_mag_rp',\n",
       " 'mad_mag_rp',\n",
       " 'abbe_mag_rp',\n",
       " 'iqr_mag_rp',\n",
       " 'stetson_mag_rp',\n",
       " 'std_dev_over_rms_err_mag_rp',\n",
       " 'outlier_median_rp',\n",
       " 'in_vari_classification_result',\n",
       " 'in_vari_rrlyrae',\n",
       " 'in_vari_cepheid',\n",
       " 'in_vari_planetary_transit',\n",
       " 'in_vari_short_timescale',\n",
       " 'in_vari_long_period_variable',\n",
       " 'in_vari_eclipsing_binary',\n",
       " 'in_vari_rotation_modulation',\n",
       " 'in_vari_ms_oscillator',\n",
       " 'in_vari_agn',\n",
       " 'in_vari_microlensing',\n",
       " 'in_vari_compact_companion',\n",
       " 'zone',\n",
       " 'dup']"
      ]
     },
     "execution_count": 6,
     "metadata": {},
     "output_type": "execute_result"
    }
   ],
   "source": [
    "vari.columns"
   ]
  },
  {
   "cell_type": "code",
   "execution_count": 7,
   "id": "795ae9aa",
   "metadata": {},
   "outputs": [
    {
     "data": {
      "text/plain": [
       "['ra',\n",
       " 'dec',\n",
       " 'solution_id',\n",
       " 'source_id',\n",
       " 'n_transits',\n",
       " 'transit_id',\n",
       " 'g_transit_time',\n",
       " 'g_transit_flux',\n",
       " 'g_transit_flux_error',\n",
       " 'g_transit_flux_over_error',\n",
       " 'g_transit_mag',\n",
       " 'g_transit_n_obs',\n",
       " 'bp_obs_time',\n",
       " 'bp_flux',\n",
       " 'bp_flux_error',\n",
       " 'bp_flux_over_error',\n",
       " 'bp_mag',\n",
       " 'rp_obs_time',\n",
       " 'rp_flux',\n",
       " 'rp_flux_error',\n",
       " 'rp_flux_over_error',\n",
       " 'rp_mag',\n",
       " 'photometry_flag_noisy_data',\n",
       " 'photometry_flag_sm_unavailable',\n",
       " 'photometry_flag_af1_unavailable',\n",
       " 'photometry_flag_af2_unavailable',\n",
       " 'photometry_flag_af3_unavailable',\n",
       " 'photometry_flag_af4_unavailable',\n",
       " 'photometry_flag_af5_unavailable',\n",
       " 'photometry_flag_af6_unavailable',\n",
       " 'photometry_flag_af7_unavailable',\n",
       " 'photometry_flag_af8_unavailable',\n",
       " 'photometry_flag_af9_unavailable',\n",
       " 'photometry_flag_bp_unavailable',\n",
       " 'photometry_flag_rp_unavailable',\n",
       " 'photometry_flag_sm_reject',\n",
       " 'photometry_flag_af1_reject',\n",
       " 'photometry_flag_af2_reject',\n",
       " 'photometry_flag_af3_reject',\n",
       " 'photometry_flag_af4_reject',\n",
       " 'photometry_flag_af5_reject',\n",
       " 'photometry_flag_af6_reject',\n",
       " 'photometry_flag_af7_reject',\n",
       " 'photometry_flag_af8_reject',\n",
       " 'photometry_flag_af9_reject',\n",
       " 'photometry_flag_bp_reject',\n",
       " 'photometry_flag_rp_reject',\n",
       " 'variability_flag_g_reject',\n",
       " 'variability_flag_bp_reject',\n",
       " 'variability_flag_rp_reject',\n",
       " 'zone',\n",
       " 'dup']"
      ]
     },
     "execution_count": 7,
     "metadata": {},
     "output_type": "execute_result"
    }
   ],
   "source": [
    "lc.columns"
   ]
  },
  {
   "cell_type": "code",
   "execution_count": 9,
   "id": "91eb6540",
   "metadata": {},
   "outputs": [
    {
     "data": {
      "text/plain": [
       "7341"
      ]
     },
     "execution_count": 9,
     "metadata": {},
     "output_type": "execute_result"
    }
   ],
   "source": [
    "vari.where(vari['in_vari_compact_companion']=='t').count()"
   ]
  },
  {
   "cell_type": "code",
   "execution_count": null,
   "id": "1357f884",
   "metadata": {},
   "outputs": [],
   "source": []
  },
  {
   "cell_type": "code",
   "execution_count": 8,
   "id": "e82f6342",
   "metadata": {},
   "outputs": [],
   "source": [
    "def histogram2d(axsframe, cond1, cond2, numbins1, numbins2, min1=None, max1=None, min2=None, max2=None):\n",
    "    \"\"\"\n",
    "    Uses `cond1` and `cond2` colunm expressions to obtain data for 2D histogram calculation. The data on\n",
    "    x axis will be binned into `numbins1` bins. The data on y axis will be binned into `numbins2` bins.\n",
    "    If `min1`, `max1`, `min2` or `max2` are not spacified, they will be calculated using an additional pass\n",
    "    through the data.\n",
    "    The method returns x, y and z 2-D numpy arrays (see numpy.mgrid) which can be used as an input to\n",
    "    `matplotlib.pcolormesh`.\n",
    "    :param cond1: Column expression determining the data on x axis.\n",
    "    :param cond2: Column expression determining the data on y axis.\n",
    "    :param numbins1: Number of bins for x axis.\n",
    "    :param numbins2: Number of bins for y axis.\n",
    "    :param min1: Optional minimum value for x axis data.\n",
    "    :param max1: Optional maximum value for x axis data.\n",
    "    :param min2: Optional minimum value for y axis data.\n",
    "    :param max2: Optional maximum value for y axis data.\n",
    "    :return: x, y, z 2-D numpy \"meshgrid\" arrays (see numpy.mgrid)\n",
    "    \"\"\"\n",
    "    colname1 = \"axs_hist_col1\"\n",
    "    colname2 = \"axs_hist_col2\"\n",
    "    res = axsframe._df.select(cond1.alias(colname1), cond2.alias(colname2))\n",
    "\n",
    "    if min1 is None or max1 is None or min2 is None or max2 is None:\n",
    "        mm = res.select(F.min(res[colname1]).alias(\"min1\"), F.max(res[colname1]).alias(\"max1\"),\n",
    "                        F.min(res[colname2]).alias(\"min2\"), F.max(res[colname2]).alias(\"max2\")).\\\n",
    "            collect()\n",
    "        (min1, max1, min2, max2) = (mm[0][\"min1\"], mm[0][\"max1\"], mm[0][\"min2\"], mm[0][\"max2\"])\n",
    "\n",
    "    range1 = float(max1 - min1)\n",
    "    range2 = float(max2 - min2)\n",
    "    step1 = range1 / numbins1\n",
    "    step2 = range2 / numbins2\n",
    "\n",
    "    hist2d = res.withColumn(\"bin1\", ((res[colname1]-min1)/step1).cast(\"int\")) \\\n",
    "        .withColumn(\"bin2\", ((res[colname2]-min2)/step2).cast(\"int\")).\\\n",
    "        groupBy(\"bin1\", \"bin2\").count().toPandas()\n",
    "\n",
    "    bin1 = np.array(hist2d['bin1'], dtype='int')\n",
    "    bin2 = np.array(hist2d['bin2'], dtype='int')\n",
    "    vals = np.array(hist2d['count'], dtype='int')\n",
    "\n",
    "    x, y = np.mgrid[slice(min1, max1 + step1, step1),\n",
    "                    slice(min2, max2 + step2, step2)]\n",
    "\n",
    "    z = np.zeros(numbins1*numbins2)\n",
    "    ok_bins, = np.where((bin1 >= 0) & (bin1 < numbins1) & (bin2 >= 0) & (bin2 < numbins2))\n",
    "    bin_onedim_index = bin2 + bin1*numbins2\n",
    "    z[bin_onedim_index[ok_bins]] = vals[ok_bins]\n",
    "    \n",
    "    return x, y, z.reshape((numbins1, numbins2))"
   ]
  },
  {
   "cell_type": "code",
   "execution_count": 11,
   "id": "037b9277",
   "metadata": {},
   "outputs": [
    {
     "name": "stdout",
     "output_type": "stream",
     "text": [
      "CPU times: user 44.6 ms, sys: 54.1 ms, total: 98.7 ms\n",
      "Wall time: 6.47 s\n"
     ]
    }
   ],
   "source": [
    "%%time\n",
    "cc = vari.where(vari['in_vari_compact_companion']=='t').select('ra','dec')\n",
    "x,y,hist = histogram2d(cc, cc['ra'], cc['dec'], 360*10, 90*10, min1=0, max1=360, min2=-90, max2=90)"
   ]
  },
  {
   "cell_type": "code",
   "execution_count": 12,
   "id": "82f83974",
   "metadata": {},
   "outputs": [],
   "source": [
    "import matplotlib\n",
    "matplotlib.rcParams['figure.dpi'] = 120"
   ]
  },
  {
   "cell_type": "code",
   "execution_count": 13,
   "id": "1b67b0df",
   "metadata": {},
   "outputs": [
    {
     "data": {
      "text/plain": [
       "Text(0, 0.5, 'Dec')"
      ]
     },
     "execution_count": 13,
     "metadata": {},
     "output_type": "execute_result"
    },
    {
     "data": {
      "image/png": "[encoded data removed]",
      "text/plain": [
       "<Figure size 1800x1200 with 1 Axes>"
      ]
     },
     "metadata": {
      "needs_background": "light"
     },
     "output_type": "display_data"
    }
   ],
   "source": [
    "plt.figure(figsize=(15,10))\n",
    "extent = (0, 360, -90, 90)\n",
    "plt.imshow(hist.T, origin='lower', extent=extent, interpolation=None, vmax=0.1*np.max(hist))\n",
    "plt.xlabel(\"RA\")\n",
    "plt.ylabel(\"Dec\")\n",
    "\n"
   ]
  },
  {
   "cell_type": "markdown",
   "id": "889a4062",
   "metadata": {},
   "source": [
    "let's try to find \"compact companion\" objects with epoch photometry, and see if we can load the Gaia periods as well (which are not at present in AXS but are on disk and readable by Spark)."
   ]
  },
  {
   "cell_type": "code",
   "execution_count": null,
   "id": "c93d81ab",
   "metadata": {},
   "outputs": [],
   "source": [
    "%%time\n",
    "ccep = gaia.crossmatch(vari.where(vari['in_vari_compact_companion']=='t'),return_min=True\n",
    "               ).where(gaia['has_epoch_photometry']=='t').select(\n",
    "                'source_id','ra','dec','parallax','parallax_error').collect()"
   ]
  },
  {
   "cell_type": "code",
   "execution_count": null,
   "id": "7bad7dfe",
   "metadata": {},
   "outputs": [],
   "source": [
    "# check if this is faster\n",
    "%%time\n",
    "ccep = vari.where(vari['in_vari_compact_companion']=='t').crossmatch(gaia,return_min=True\n",
    "               ).where(gaia['has_epoch_photometry']=='t').select(\n",
    "                'source_id','ra','dec','parallax','parallax_error').collect()"
   ]
  },
  {
   "cell_type": "code",
   "execution_count": null,
   "id": "95b13d99",
   "metadata": {},
   "outputs": [],
   "source": [
    "cclc = vari.where(vari['in_vari_compact_companion']=='t').crossmatch(lc,return_min=True\n",
    "               ).select(\n",
    "                 'source_id', 'g_transit_time', 'g_transit_flux',).collect()"
   ]
  }
 ],
 "metadata": {
  "kernelspec": {
   "display_name": "Python 3-AXS Beta",
   "language": "python",
   "name": "spark-axs-beta"
  },
  "language_info": {
   "codemirror_mode": {
    "name": "ipython",
    "version": 3
   },
   "file_extension": ".py",
   "mimetype": "text/x-python",
   "name": "python",
   "nbconvert_exporter": "python",
   "pygments_lexer": "ipython3",
   "version": "3.7.6"
  }
 },
 "nbformat": 4,
 "nbformat_minor": 5
}
